{
 "cells": [
  {
   "cell_type": "code",
   "execution_count": 3,
   "id": "da7f7073",
   "metadata": {},
   "outputs": [
    {
     "name": "stdout",
     "output_type": "stream",
     "text": [
      "Enter the number to be checked Prime or not :4\n",
      "4 is not a Prime Number\n"
     ]
    }
   ],
   "source": [
    "#CHECK THE NUMBER IS PRIME OR NOT\n",
    "num=int(input(\"Enter the number to be checked Prime or not :\"))\n",
    "\n",
    "if(num>1):\n",
    "    for i in range(2,num):\n",
    "        if(num%i==0):\n",
    "            print(num,\"is not a Prime Number\")    \n",
    "            break\n",
    "        else:\n",
    "            print(num,\"is a prime number\")\n",
    "else:\n",
    "    print(num,\"is not a Prime Number\")\n",
    "    "
   ]
  },
  {
   "cell_type": "code",
   "execution_count": 4,
   "id": "8e173b96",
   "metadata": {},
   "outputs": [
    {
     "name": "stdout",
     "output_type": "stream",
     "text": [
      "Enter the value to be checked :153\n",
      "153  is a Armstrong number\n"
     ]
    }
   ],
   "source": [
    "#CHECK ARMSTRONG NUMBER(3 DIGITS)\n",
    "\n",
    "num=int(input(\"Enter the value to be checked :\"))\n",
    "sum=0\n",
    "temp=num\n",
    "while temp>0:\n",
    "    digit=temp%10\n",
    "    sum+=digit**3\n",
    "    temp//=10\n",
    "if num==sum:\n",
    "    print(num,\" is a Armstrong number\")\n",
    "else:\n",
    "    print(num,\" is not a Armstrong number\")\n",
    "\n"
   ]
  },
  {
   "cell_type": "code",
   "execution_count": 5,
   "id": "30604def",
   "metadata": {},
   "outputs": [
    {
     "name": "stdout",
     "output_type": "stream",
     "text": [
      "Enter the value to be checked :21\n",
      "Sum of cube of each digit is : 9\n"
     ]
    }
   ],
   "source": [
    "#FIND THE SUM OF CUBE OF EACH DIGIT\n",
    "\n",
    "num=int(input(\"Enter the value to be checked :\"))\n",
    "sum=0\n",
    "temp=num\n",
    "while temp>0:\n",
    "    digit=temp%10\n",
    "    sum+=digit**3\n",
    "    temp//=10\n",
    "print(\"Sum of cube of each digit is :\",sum)    "
   ]
  },
  {
   "cell_type": "code",
   "execution_count": null,
   "id": "ac62e7b2",
   "metadata": {},
   "outputs": [],
   "source": [
    "\n",
    "\n"
   ]
  }
 ],
 "metadata": {
  "kernelspec": {
   "display_name": "Python 3",
   "language": "python",
   "name": "python3"
  },
  "language_info": {
   "codemirror_mode": {
    "name": "ipython",
    "version": 3
   },
   "file_extension": ".py",
   "mimetype": "text/x-python",
   "name": "python",
   "nbconvert_exporter": "python",
   "pygments_lexer": "ipython3",
   "version": "3.8.8"
  }
 },
 "nbformat": 4,
 "nbformat_minor": 5
}
