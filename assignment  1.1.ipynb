{
 "cells": [
  {
   "cell_type": "code",
   "execution_count": 3,
   "id": "44903c5b",
   "metadata": {},
   "outputs": [
    {
     "name": "stdout",
     "output_type": "stream",
     "text": [
      "Enter value in kilometers25\n",
      "25.0 kilometre is equal to  15.53425  miles\n"
     ]
    }
   ],
   "source": [
    "#CONVERT KILOMETERS TO MILES\n",
    "\n",
    "km=float(input(\"Enter distance in kilometers\"))\n",
    "miles=km*0.62137\n",
    "print(km,\"kilometre is equal to \",miles,\" miles\")"
   ]
  },
  {
   "cell_type": "code",
   "execution_count": 4,
   "id": "a3234365",
   "metadata": {},
   "outputs": [
    {
     "name": "stdout",
     "output_type": "stream",
     "text": [
      "Enter value in celcius :25\n",
      "25.0  is in fahrenheit  77.0\n"
     ]
    }
   ],
   "source": [
    "#CONVERT CELCIUS TO FAHRENHEIT\n",
    "\n",
    "cel=float(input(\"Enter value in celcius :\"))\n",
    "fer=(cel*1.8)+32\n",
    "print(cel,\" is in fahrenheit \",fer)"
   ]
  },
  {
   "cell_type": "code",
   "execution_count": 7,
   "id": "5730839a",
   "metadata": {},
   "outputs": [
    {
     "name": "stdout",
     "output_type": "stream",
     "text": [
      "Enter the number to be checked :0\n",
      "0  Number is zero\n"
     ]
    }
   ],
   "source": [
    "#CHECK NUMBER IS +VE,-VE OR 0\n",
    "\n",
    "num=int(input(\"Enter the number to be checked :\"))\n",
    "if num<0:\n",
    "    print(num,\" Number is -ve\")\n",
    "elif num>0:\n",
    "    print(num,\" Number is +ve\")\n",
    "else:\n",
    "    print(num,\" Number is zero\")"
   ]
  },
  {
   "cell_type": "code",
   "execution_count": 9,
   "id": "025ac9b0",
   "metadata": {},
   "outputs": [
    {
     "name": "stdout",
     "output_type": "stream",
     "text": [
      "Enter the number to be checked :3\n",
      "3  is Odd Number\n"
     ]
    }
   ],
   "source": [
    "#CHECK NUMBER IS EVEN OR ODD\n",
    "\n",
    "num=int(input(\"Enter the number to be checked :\"))\n",
    "if (num%2==0):\n",
    "    print(num,\" is Even Number\")\n",
    "else:\n",
    "    print(num,\" is Odd Number\")"
   ]
  },
  {
   "cell_type": "code",
   "execution_count": 10,
   "id": "0b419a8a",
   "metadata": {},
   "outputs": [
    {
     "name": "stdout",
     "output_type": "stream",
     "text": [
      "Enter the number to be checked :2000\n",
      "2000  year is the Leap year\n"
     ]
    }
   ],
   "source": [
    "#CHECK LEAP YEAR\n",
    "\n",
    "num=int(input(\"Enter the number to be checked :\"))\n",
    "if (num%4==0):\n",
    "    print(num, \" year is the Leap year\")\n",
    "else:\n",
    "     print(num, \" year is not a Leap year\")"
   ]
  },
  {
   "cell_type": "code",
   "execution_count": 16,
   "id": "a13b98fc",
   "metadata": {},
   "outputs": [
    {
     "name": "stdout",
     "output_type": "stream",
     "text": [
      "Enter three number to find largest among them\n",
      "5\n",
      "8\n",
      "2\n",
      "8 is the largest number\n"
     ]
    }
   ],
   "source": [
    "#FIND THE LARGEST AMONG THREE NUMBERS\n",
    "\n",
    "print(\"Enter three number to find largest among them\")\n",
    "a=int(input())\n",
    "b=int(input())\n",
    "c=int(input())\n",
    "if (a>b and a>c):\n",
    "    print(a,\"is the largest number\")\n",
    "elif(b>a and b>c):\n",
    "    print(b,\"is the largest number\")\n",
    "else:\n",
    "    print(c,\"is the largest number\")"
   ]
  },
  {
   "cell_type": "code",
   "execution_count": 28,
   "id": "4d524749",
   "metadata": {},
   "outputs": [
    {
     "name": "stdout",
     "output_type": "stream",
     "text": [
      "All prime numbers between 1  to  50  :\n",
      "2\n",
      "3\n",
      "5\n",
      "7\n",
      "11\n",
      "13\n",
      "17\n",
      "19\n",
      "23\n",
      "29\n",
      "31\n",
      "37\n",
      "41\n",
      "43\n",
      "47\n"
     ]
    }
   ],
   "source": [
    "#DISPLAY ALL PRIME NUMBER WITHIN A RANGE\n",
    "\n",
    "a=1\n",
    "b=50\n",
    "print(\"All prime numbers between\",a,\" to \",b,\" :\")\n",
    "for num in range(a,b+1):\n",
    "    if(num>1):\n",
    "        for i in range(2,num):\n",
    "            if (num%i)==0:\n",
    "                break\n",
    "        else:\n",
    "            print(num)\n",
    "        "
   ]
  },
  {
   "cell_type": "code",
   "execution_count": 33,
   "id": "8fadc418",
   "metadata": {},
   "outputs": [
    {
     "name": "stdout",
     "output_type": "stream",
     "text": [
      "Enter the number :3\n",
      "Factorial of  3  is : 6\n"
     ]
    }
   ],
   "source": [
    "#FIND FACTORIAL OF A NUMBER\n",
    "\n",
    "num=int(input(\"Enter the number :\"))\n",
    "fact=1\n",
    "if num<0:\n",
    "    print(\"factorial of \",num,\" does not exist\")\n",
    "elif num==0:\n",
    "    print(\"factorial of 0 is 1:\")\n",
    "else:\n",
    "    for i in range(1,num+1):\n",
    "          fact=fact*i\n",
    "    print(\"Factorial of \",num,\" is :\",fact)      "
   ]
  },
  {
   "cell_type": "code",
   "execution_count": 36,
   "id": "099c320f",
   "metadata": {},
   "outputs": [
    {
     "name": "stdout",
     "output_type": "stream",
     "text": [
      "Enter the number to get multiplication table :25\n",
      "25 x 1 = 25\n",
      "25 x 2 = 50\n",
      "25 x 3 = 75\n",
      "25 x 4 = 100\n",
      "25 x 5 = 125\n",
      "25 x 6 = 150\n",
      "25 x 7 = 175\n",
      "25 x 8 = 200\n",
      "25 x 9 = 225\n",
      "25 x 10 = 250\n"
     ]
    }
   ],
   "source": [
    "#DISPLAY MULTIPLICATION TABLE\n",
    "\n",
    "num=int(input(\"Enter the number to get multiplication table :\"))\n",
    "for i in range(1,11):\n",
    "    print(num, \"x\",i,\"=\",num*i )"
   ]
  },
  {
   "cell_type": "code",
   "execution_count": 42,
   "id": "9336e737",
   "metadata": {},
   "outputs": [
    {
     "name": "stdout",
     "output_type": "stream",
     "text": [
      "Enter the number :8\n",
      "Fibonacci sequence :\n",
      "0\n",
      "1\n",
      "1\n",
      "2\n",
      "3\n",
      "5\n",
      "8\n",
      "13\n"
     ]
    }
   ],
   "source": [
    "#DISPLAY FIBONACCI SEQUENCE\n",
    "\n",
    "num=int(input(\"Enter the number :\"))\n",
    "a=0\n",
    "b=1\n",
    "count=0\n",
    "if num<=0:\n",
    "    print(\"Wrong input ,please enter positive value\")\n",
    "elif num==1:\n",
    "    print(\"fibonacci sequence upto\",num,\" :\",a)\n",
    "else:\n",
    "    print(\"Fibonacci sequence :\")\n",
    "    while count<num:\n",
    "        print(a)\n",
    "        c=a+b\n",
    "        a=b\n",
    "        b=c\n",
    "        count+=1\n",
    "        \n"
   ]
  },
  {
   "cell_type": "code",
   "execution_count": null,
   "id": "2daf3455",
   "metadata": {},
   "outputs": [],
   "source": []
  }
 ],
 "metadata": {
  "kernelspec": {
   "display_name": "Python 3",
   "language": "python",
   "name": "python3"
  },
  "language_info": {
   "codemirror_mode": {
    "name": "ipython",
    "version": 3
   },
   "file_extension": ".py",
   "mimetype": "text/x-python",
   "name": "python",
   "nbconvert_exporter": "python",
   "pygments_lexer": "ipython3",
   "version": "3.8.8"
  }
 },
 "nbformat": 4,
 "nbformat_minor": 5
}
